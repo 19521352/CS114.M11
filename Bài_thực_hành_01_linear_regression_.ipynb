{
  "nbformat": 4,
  "nbformat_minor": 0,
  "metadata": {
    "colab": {
      "name": "Bài thực hành 01 -  linear regression .ipynb",
      "provenance": []
    },
    "kernelspec": {
      "name": "python3",
      "display_name": "Python 3"
    },
    "language_info": {
      "name": "python"
    },
    "accelerator": "GPU"
  },
  "cells": [
    {
      "cell_type": "markdown",
      "metadata": {
        "id": "oFMD1pOgxkln"
      },
      "source": [
        "# Bài thực hành 01 -  linear regression "
      ]
    },
    {
      "cell_type": "code",
      "metadata": {
        "colab": {
          "resources": {
            "http://localhost:8080/nbextensions/google.colab/files.js": {
              "data": "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",
              "ok": true,
              "headers": [
                [
                  "content-type",
                  "application/javascript"
                ]
              ],
              "status": 200,
              "status_text": ""
            }
          },
          "base_uri": "https://localhost:8080/",
          "height": 334
        },
        "id": "C3rtgTZ-vDUM",
        "outputId": "aa4ee297-bafa-4eee-ee49-249cd4e3dbb6"
      },
      "source": [
        "\n",
        "import numpy as np\n",
        "import pandas as pd\n",
        "from google.colab import files\n",
        "import matplotlib.pyplot as plt\n",
        "from sklearn import datasets, linear_model\n",
        "uploaded = files.upload()\n",
        "data_train = np.loadtxt('data2.txt', delimiter=',', dtype=float)\n",
        "X_train = (np.array(data_train[: ,0])).reshape(-1,1)\n",
        "y_train = (np.array(data_train[: ,1])).reshape(-1,1)\n",
        "plt.scatter(X_train, y_train)\n",
        "plt.show()"
      ],
      "execution_count": null,
      "outputs": [
        {
          "output_type": "display_data",
          "data": {
            "text/html": [
              "\n",
              "     <input type=\"file\" id=\"files-e67e0393-b6c6-48fc-a866-6aec95a2589d\" name=\"files[]\" multiple disabled\n",
              "        style=\"border:none\" />\n",
              "     <output id=\"result-e67e0393-b6c6-48fc-a866-6aec95a2589d\">\n",
              "      Upload widget is only available when the cell has been executed in the\n",
              "      current browser session. Please rerun this cell to enable.\n",
              "      </output>\n",
              "      <script src=\"/nbextensions/google.colab/files.js\"></script> "
            ],
            "text/plain": [
              "<IPython.core.display.HTML object>"
            ]
          },
          "metadata": {}
        },
        {
          "output_type": "stream",
          "name": "stdout",
          "text": [
            "Saving data2.txt to data2 (4).txt\n"
          ]
        },
        {
          "output_type": "display_data",
          "data": {
            "image/png": "[encoded data removed]",
            "text/plain": [
              "<Figure size 432x288 with 1 Axes>"
            ]
          },
          "metadata": {
            "needs_background": "light"
          }
        }
      ]
    },
    {
      "cell_type": "code",
      "metadata": {
        "colab": {
          "resources": {
            "http://localhost:8080/nbextensions/google.colab/files.js": {
              "data": "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",
              "ok": true,
              "headers": [
                [
                  "content-type",
                  "application/javascript"
                ]
              ],
              "status": 200,
              "status_text": ""
            }
          },
          "base_uri": "https://localhost:8080/",
          "height": 73
        },
        "id": "BZQn3Fzv3gK3",
        "outputId": "07590eaf-eeee-4177-f924-76dc2db982c7"
      },
      "source": [
        "uploaded = files.upload()\n",
        "data_test = np.loadtxt('data3.txt', delimiter=',', dtype=float)\n",
        "X_test = (np.array(data_test[: ,0])).reshape(-1,1)\n",
        "y_test = (np.array(data_test[: ,1])).reshape(-1,1)"
      ],
      "execution_count": null,
      "outputs": [
        {
          "output_type": "display_data",
          "data": {
            "text/html": [
              "\n",
              "     <input type=\"file\" id=\"files-5f04cacd-1ad2-4d65-a758-1c0e9d87ee31\" name=\"files[]\" multiple disabled\n",
              "        style=\"border:none\" />\n",
              "     <output id=\"result-5f04cacd-1ad2-4d65-a758-1c0e9d87ee31\">\n",
              "      Upload widget is only available when the cell has been executed in the\n",
              "      current browser session. Please rerun this cell to enable.\n",
              "      </output>\n",
              "      <script src=\"/nbextensions/google.colab/files.js\"></script> "
            ],
            "text/plain": [
              "<IPython.core.display.HTML object>"
            ]
          },
          "metadata": {}
        },
        {
          "output_type": "stream",
          "name": "stdout",
          "text": [
            "Saving data3.txt to data3 (2).txt\n"
          ]
        }
      ]
    },
    {
      "cell_type": "code",
      "metadata": {
        "colab": {
          "base_uri": "https://localhost:8080/"
        },
        "id": "UiU2jsrH7CkS",
        "outputId": "c50c4ea3-61c4-415c-cd1f-12cdd0a97964"
      },
      "source": [
        "import math\n",
        "regr = linear_model.LinearRegression() \n",
        "regr.fit(X_train, y_train)"
      ],
      "execution_count": null,
      "outputs": [
        {
          "output_type": "execute_result",
          "data": {
            "text/plain": [
              "LinearRegression()"
            ]
          },
          "metadata": {},
          "execution_count": 41
        }
      ]
    },
    {
      "cell_type": "code",
      "metadata": {
        "colab": {
          "base_uri": "https://localhost:8080/",
          "height": 278
        },
        "id": "9sobcbVS96GA",
        "outputId": "08b9cf05-f6c0-45cd-ed5f-e4a7ab6f0312"
      },
      "source": [
        "plt.scatter(X_test,y_test)\n",
        "plt.scatter(X_test,regr.predict(X_test))\n",
        "plt.show()"
      ],
      "execution_count": null,
      "outputs": [
        {
          "output_type": "display_data",
          "data": {
            "image/png": "[encoded data removed]",
            "text/plain": [
              "<Figure size 432x288 with 1 Axes>"
            ]
          },
          "metadata": {
            "needs_background": "light"
          }
        }
      ]
    },
    {
      "cell_type": "code",
      "metadata": {
        "colab": {
          "base_uri": "https://localhost:8080/"
        },
        "id": "oa1LQIREMDHz",
        "outputId": "bcd2946b-5cbb-4302-e476-e8cf7818880c"
      },
      "source": [
        "from sklearn.metrics import mean_absolute_error, mean_squared_error, r2_score\n",
        "print(\"model chưa được cải tiến\")\n",
        "print('Mean Absolute Error:', mean_absolute_error(y_test, regr.predict(X_test)))\n",
        "print('Mean Squared Error:', mean_squared_error(y_test, regr.predict(X_test)))\n",
        "print('Root Mean Squared Error:', np.sqrt(mean_squared_error(y_test, regr.predict(X_test))))\n",
        "print(\"R2_score: \",r2_score(y_test,regr.predict(X_test)))"
      ],
      "execution_count": null,
      "outputs": [
        {
          "output_type": "stream",
          "name": "stdout",
          "text": [
            "model chưa được cải tiến\n",
            "Mean Absolute Error: 0.12271198006925235\n",
            "Mean Squared Error: 0.020664949397549082\n",
            "Root Mean Squared Error: 0.14375308482794058\n",
            "R2_score:  0.9284132208349453\n"
          ]
        }
      ]
    },
    {
      "cell_type": "code",
      "metadata": {
        "id": "lzfDH9GlJCPa"
      },
      "source": [
        "X_max=X_train.max()\n",
        "r2=r2_score(y_test,regr.predict(X_test))"
      ],
      "execution_count": null,
      "outputs": []
    },
    {
      "cell_type": "code",
      "metadata": {
        "colab": {
          "base_uri": "https://localhost:8080/"
        },
        "id": "z0ljAyODTfNB",
        "outputId": "3d56d5b7-314e-43da-c9b0-01915c2fec23"
      },
      "source": [
        "muc=100000\n",
        "for i in range(100000,10000000,50000):\n",
        "  train=data_train[data_train[:,0]>=i]\n",
        "  X_train1 = (np.array(train[: ,0])).reshape(-1,1)\n",
        "  y_train1 = (np.array(train[: ,1])).reshape(-1,1)\n",
        "  regr1 = linear_model.LinearRegression() \n",
        "  regr1.fit(X_train1, y_train1)\n",
        "  if(r2_score(y_test,regr1.predict(X_test))>r2):\n",
        "    r2=r2_score(y_test,regr1.predict(X_test))\n",
        "    muc=i\n",
        "    print(\"dư liệu x lớn hơn:\",muc,\"||R2_score: \",r2,\"||kích thước dữ liệu: \",len(X_train1))\n",
        "print(muc,r2)\n"
      ],
      "execution_count": null,
      "outputs": [
        {
          "output_type": "stream",
          "name": "stdout",
          "text": [
            "dư liệu x lớn hơn: 100000 ||R2_score:  0.9303609008130468 ||kích thước dữ liệu:  70412\n",
            "dư liệu x lớn hơn: 150000 ||R2_score:  0.9312595461302677 ||kích thước dữ liệu:  70064\n",
            "dư liệu x lớn hơn: 200000 ||R2_score:  0.9321980835125476 ||kích thước dữ liệu:  69688\n",
            "dư liệu x lớn hơn: 250000 ||R2_score:  0.933086696185364 ||kích thước dữ liệu:  69320\n",
            "dư liệu x lớn hơn: 300000 ||R2_score:  0.9339438109438902 ||kích thước dữ liệu:  68955\n",
            "dư liệu x lớn hơn: 350000 ||R2_score:  0.9347540030002699 ||kích thước dữ liệu:  68601\n",
            "dư liệu x lớn hơn: 400000 ||R2_score:  0.9355845877272171 ||kích thước dữ liệu:  68225\n",
            "dư liệu x lớn hơn: 450000 ||R2_score:  0.9363588595899983 ||kích thước dữ liệu:  67865\n",
            "dư liệu x lớn hơn: 500000 ||R2_score:  0.9371532303003193 ||kích thước dữ liệu:  67486\n",
            "dư liệu x lớn hơn: 550000 ||R2_score:  0.9378000713898298 ||kích thước dữ liệu:  67171\n",
            "dư liệu x lớn hơn: 600000 ||R2_score:  0.9385139066180743 ||kích thước dữ liệu:  66815\n",
            "dư liệu x lớn hơn: 650000 ||R2_score:  0.9391972774715033 ||kích thước dữ liệu:  66466\n",
            "dư liệu x lớn hơn: 700000 ||R2_score:  0.9399341376070524 ||kích thước dữ liệu:  66083\n",
            "dư liệu x lớn hơn: 750000 ||R2_score:  0.9406230076290619 ||kích thước dữ liệu:  65716\n",
            "dư liệu x lớn hơn: 800000 ||R2_score:  0.9412294211185062 ||kích thước dữ liệu:  65388\n",
            "dư liệu x lớn hơn: 850000 ||R2_score:  0.941854367625927 ||kích thước dữ liệu:  65041\n",
            "dư liệu x lớn hơn: 900000 ||R2_score:  0.942480032952511 ||kích thước dữ liệu:  64680\n",
            "dư liệu x lớn hơn: 950000 ||R2_score:  0.9431203947068695 ||kích thước dữ liệu:  64302\n",
            "dư liệu x lớn hơn: 1000000 ||R2_score:  0.9436874602169218 ||kích thước dữ liệu:  63958\n",
            "dư liệu x lớn hơn: 1050000 ||R2_score:  0.9442087896330754 ||kích thước dữ liệu:  63635\n",
            "dư liệu x lớn hơn: 1100000 ||R2_score:  0.9447232054565359 ||kích thước dữ liệu:  63316\n",
            "dư liệu x lớn hơn: 1150000 ||R2_score:  0.9452504650673851 ||kích thước dữ liệu:  62974\n",
            "dư liệu x lớn hơn: 1200000 ||R2_score:  0.9457621867938402 ||kích thước dữ liệu:  62637\n",
            "dư liệu x lớn hơn: 1250000 ||R2_score:  0.9462919924860453 ||kích thước dữ liệu:  62274\n",
            "dư liệu x lớn hơn: 1300000 ||R2_score:  0.9468478752690379 ||kích thước dữ liệu:  61912\n",
            "dư liệu x lớn hơn: 1350000 ||R2_score:  0.9473083448606573 ||kích thước dữ liệu:  61587\n",
            "dư liệu x lớn hơn: 1400000 ||R2_score:  0.9477806304469054 ||kích thước dữ liệu:  61255\n",
            "dư liệu x lớn hơn: 1450000 ||R2_score:  0.9483312111334579 ||kích thước dữ liệu:  60847\n",
            "dư liệu x lớn hơn: 1500000 ||R2_score:  0.9488203664410655 ||kích thước dữ liệu:  60498\n",
            "dư liệu x lớn hơn: 1550000 ||R2_score:  0.9492454731412394 ||kích thước dữ liệu:  60176\n",
            "dư liệu x lớn hơn: 1600000 ||R2_score:  0.9497038047756554 ||kích thước dữ liệu:  59818\n",
            "dư liệu x lớn hơn: 1650000 ||R2_score:  0.9501895553048963 ||kích thước dữ liệu:  59456\n",
            "dư liệu x lớn hơn: 1700000 ||R2_score:  0.9506815058090715 ||kích thước dữ liệu:  59070\n",
            "dư liệu x lớn hơn: 1750000 ||R2_score:  0.9511285979674495 ||kích thước dữ liệu:  58718\n",
            "dư liệu x lớn hơn: 1800000 ||R2_score:  0.9515373157615845 ||kích thước dữ liệu:  58368\n",
            "dư liệu x lớn hơn: 1850000 ||R2_score:  0.9519427638079189 ||kích thước dữ liệu:  58013\n",
            "dư liệu x lớn hơn: 1900000 ||R2_score:  0.9523698178941776 ||kích thước dữ liệu:  57655\n",
            "dư liệu x lớn hơn: 1950000 ||R2_score:  0.9528303422792296 ||kích thước dữ liệu:  57283\n",
            "dư liệu x lớn hơn: 2000000 ||R2_score:  0.9532455397561407 ||kích thước dữ liệu:  56922\n",
            "dư liệu x lớn hơn: 2050000 ||R2_score:  0.9536534169282915 ||kích thước dữ liệu:  56567\n",
            "dư liệu x lớn hơn: 2100000 ||R2_score:  0.954036370132914 ||kích thước dữ liệu:  56210\n",
            "dư liệu x lớn hơn: 2150000 ||R2_score:  0.9544454935501754 ||kích thước dữ liệu:  55848\n",
            "dư liệu x lớn hơn: 2200000 ||R2_score:  0.9548782716168664 ||kích thước dữ liệu:  55483\n",
            "dư liệu x lớn hơn: 2250000 ||R2_score:  0.9552319724097277 ||kích thước dữ liệu:  55136\n",
            "dư liệu x lớn hơn: 2300000 ||R2_score:  0.955584519253782 ||kích thước dữ liệu:  54780\n",
            "dư liệu x lớn hơn: 2350000 ||R2_score:  0.955962088749106 ||kích thước dữ liệu:  54427\n",
            "dư liệu x lớn hơn: 2400000 ||R2_score:  0.9563533097609968 ||kích thước dữ liệu:  54040\n",
            "dư liệu x lớn hơn: 2450000 ||R2_score:  0.9567472632853508 ||kích thước dữ liệu:  53680\n",
            "dư liệu x lớn hơn: 2500000 ||R2_score:  0.9570782919910815 ||kích thước dữ liệu:  53312\n",
            "dư liệu x lớn hơn: 2550000 ||R2_score:  0.9574113908650407 ||kích thước dữ liệu:  52991\n",
            "dư liệu x lớn hơn: 2600000 ||R2_score:  0.9577198471169313 ||kích thước dữ liệu:  52650\n",
            "dư liệu x lớn hơn: 2650000 ||R2_score:  0.9580683232912026 ||kích thước dữ liệu:  52281\n",
            "dư liệu x lớn hơn: 2700000 ||R2_score:  0.9583922971304975 ||kích thước dữ liệu:  51924\n",
            "dư liệu x lớn hơn: 2750000 ||R2_score:  0.958743343858206 ||kích thước dữ liệu:  51557\n",
            "dư liệu x lớn hơn: 2800000 ||R2_score:  0.9591075120934708 ||kích thước dữ liệu:  51184\n",
            "dư liệu x lớn hơn: 2850000 ||R2_score:  0.9594539627959635 ||kích thước dữ liệu:  50867\n",
            "dư liệu x lớn hơn: 2900000 ||R2_score:  0.9597682076369801 ||kích thước dữ liệu:  50511\n",
            "dư liệu x lớn hơn: 2950000 ||R2_score:  0.9600468254653048 ||kích thước dữ liệu:  50167\n",
            "dư liệu x lớn hơn: 3000000 ||R2_score:  0.9603221950662255 ||kích thước dữ liệu:  49828\n",
            "dư liệu x lớn hơn: 3050000 ||R2_score:  0.9606609414462227 ||kích thước dữ liệu:  49461\n",
            "dư liệu x lớn hơn: 3100000 ||R2_score:  0.9609721403888084 ||kích thước dữ liệu:  49109\n",
            "dư liệu x lớn hơn: 3150000 ||R2_score:  0.9612604693079382 ||kích thước dữ liệu:  48751\n",
            "dư liệu x lớn hơn: 3200000 ||R2_score:  0.9615368926025673 ||kích thước dữ liệu:  48395\n",
            "dư liệu x lớn hơn: 3250000 ||R2_score:  0.9618384391432205 ||kích thước dữ liệu:  48014\n",
            "dư liệu x lớn hơn: 3300000 ||R2_score:  0.9621776936053328 ||kích thước dữ liệu:  47642\n",
            "dư liệu x lớn hơn: 3350000 ||R2_score:  0.9624750322199106 ||kích thước dữ liệu:  47292\n",
            "dư liệu x lớn hơn: 3400000 ||R2_score:  0.962799564218173 ||kích thước dữ liệu:  46937\n",
            "dư liệu x lớn hơn: 3450000 ||R2_score:  0.963049521918167 ||kích thước dữ liệu:  46567\n",
            "dư liệu x lớn hơn: 3500000 ||R2_score:  0.9632481468132671 ||kích thước dữ liệu:  46178\n",
            "dư liệu x lớn hơn: 3550000 ||R2_score:  0.9634997163815844 ||kích thước dữ liệu:  45845\n",
            "dư liệu x lớn hơn: 3600000 ||R2_score:  0.9637022520105665 ||kích thước dữ liệu:  45501\n",
            "dư liệu x lớn hơn: 3650000 ||R2_score:  0.9639948410077512 ||kích thước dữ liệu:  45154\n",
            "dư liệu x lớn hơn: 3700000 ||R2_score:  0.9641977981602666 ||kích thước dữ liệu:  44807\n",
            "dư liệu x lớn hơn: 3750000 ||R2_score:  0.9644293466260898 ||kích thước dữ liệu:  44472\n",
            "dư liệu x lớn hơn: 3800000 ||R2_score:  0.9646754558172211 ||kích thước dữ liệu:  44088\n",
            "dư liệu x lớn hơn: 3850000 ||R2_score:  0.9649552574558555 ||kích thước dữ liệu:  43710\n",
            "dư liệu x lớn hơn: 3900000 ||R2_score:  0.9652113129455869 ||kích thước dữ liệu:  43382\n",
            "dư liệu x lớn hơn: 3950000 ||R2_score:  0.9654042581611928 ||kích thước dữ liệu:  42987\n",
            "dư liệu x lớn hơn: 4000000 ||R2_score:  0.9656180301457471 ||kích thước dữ liệu:  42646\n",
            "dư liệu x lớn hơn: 4050000 ||R2_score:  0.9659454712862197 ||kích thước dữ liệu:  42302\n",
            "dư liệu x lớn hơn: 4100000 ||R2_score:  0.9661595710172945 ||kích thước dữ liệu:  41977\n",
            "dư liệu x lớn hơn: 4150000 ||R2_score:  0.96631019835877 ||kích thước dữ liệu:  41647\n",
            "dư liệu x lớn hơn: 4200000 ||R2_score:  0.9665736549603787 ||kích thước dữ liệu:  41270\n",
            "dư liệu x lớn hơn: 4250000 ||R2_score:  0.9666736539478493 ||kích thước dữ liệu:  40962\n",
            "dư liệu x lớn hơn: 4300000 ||R2_score:  0.9669551346492762 ||kích thước dữ liệu:  40593\n",
            "dư liệu x lớn hơn: 4350000 ||R2_score:  0.967195773392339 ||kích thước dữ liệu:  40244\n",
            "dư liệu x lớn hơn: 4400000 ||R2_score:  0.9674510099999984 ||kích thước dữ liệu:  39908\n",
            "dư liệu x lớn hơn: 4450000 ||R2_score:  0.9677056354010701 ||kích thước dữ liệu:  39573\n",
            "dư liệu x lớn hơn: 4500000 ||R2_score:  0.9679154039695645 ||kích thước dữ liệu:  39229\n",
            "dư liệu x lớn hơn: 4550000 ||R2_score:  0.9681775556155832 ||kích thước dữ liệu:  38849\n",
            "dư liệu x lớn hơn: 4600000 ||R2_score:  0.9684100586404132 ||kích thước dữ liệu:  38501\n",
            "dư liệu x lớn hơn: 4650000 ||R2_score:  0.9685992351866379 ||kích thước dữ liệu:  38151\n",
            "dư liệu x lớn hơn: 4700000 ||R2_score:  0.968866355260163 ||kích thước dữ liệu:  37796\n",
            "dư liệu x lớn hơn: 4750000 ||R2_score:  0.9691055529324958 ||kích thước dữ liệu:  37429\n",
            "dư liệu x lớn hơn: 4800000 ||R2_score:  0.9693650580311359 ||kích thước dữ liệu:  37063\n",
            "dư liệu x lớn hơn: 4850000 ||R2_score:  0.9695342341602495 ||kích thước dữ liệu:  36745\n",
            "dư liệu x lớn hơn: 4900000 ||R2_score:  0.9696518615295797 ||kích thước dữ liệu:  36380\n",
            "dư liệu x lớn hơn: 4950000 ||R2_score:  0.9699670358235913 ||kích thước dữ liệu:  36009\n",
            "dư liệu x lớn hơn: 5000000 ||R2_score:  0.970168068793008 ||kích thước dữ liệu:  35633\n",
            "dư liệu x lớn hơn: 5050000 ||R2_score:  0.9703914422080996 ||kích thước dữ liệu:  35300\n",
            "dư liệu x lớn hơn: 5100000 ||R2_score:  0.9705182013331943 ||kích thước dữ liệu:  34976\n",
            "dư liệu x lớn hơn: 5150000 ||R2_score:  0.9706513364463156 ||kích thước dữ liệu:  34598\n",
            "dư liệu x lớn hơn: 5200000 ||R2_score:  0.9709345306165676 ||kích thước dữ liệu:  34196\n",
            "dư liệu x lớn hơn: 5250000 ||R2_score:  0.9711943982238158 ||kích thước dữ liệu:  33832\n",
            "dư liệu x lớn hơn: 5300000 ||R2_score:  0.9714182162823909 ||kích thước dữ liệu:  33488\n",
            "dư liệu x lớn hơn: 5350000 ||R2_score:  0.9717211532635278 ||kích thước dữ liệu:  33117\n",
            "dư liệu x lớn hơn: 5450000 ||R2_score:  0.9718803722379168 ||kích thước dữ liệu:  32400\n",
            "dư liệu x lớn hơn: 5500000 ||R2_score:  0.97211451336423 ||kích thước dữ liệu:  32008\n",
            "dư liệu x lớn hơn: 5550000 ||R2_score:  0.9721761175932695 ||kích thước dữ liệu:  31663\n",
            "dư liệu x lớn hơn: 5600000 ||R2_score:  0.972307714200804 ||kích thước dữ liệu:  31313\n",
            "dư liệu x lớn hơn: 5650000 ||R2_score:  0.9725486128692048 ||kích thước dữ liệu:  30956\n",
            "dư liệu x lớn hơn: 5700000 ||R2_score:  0.9728317764981981 ||kích thước dữ liệu:  30621\n",
            "dư liệu x lớn hơn: 5750000 ||R2_score:  0.9730078734459708 ||kích thước dữ liệu:  30250\n",
            "dư liệu x lớn hơn: 5800000 ||R2_score:  0.97323819390265 ||kích thước dữ liệu:  29889\n",
            "dư liệu x lớn hơn: 5850000 ||R2_score:  0.9736090303713676 ||kích thước dữ liệu:  29503\n",
            "dư liệu x lớn hơn: 5900000 ||R2_score:  0.9738819415422323 ||kích thước dữ liệu:  29148\n",
            "dư liệu x lớn hơn: 5950000 ||R2_score:  0.9740404907100797 ||kích thước dữ liệu:  28834\n",
            "dư liệu x lớn hơn: 6000000 ||R2_score:  0.9741794932030824 ||kích thước dữ liệu:  28464\n",
            "dư liệu x lớn hơn: 6050000 ||R2_score:  0.9742999541697928 ||kích thước dữ liệu:  28104\n",
            "dư liệu x lớn hơn: 6100000 ||R2_score:  0.9743831551990365 ||kích thước dữ liệu:  27757\n",
            "dư liệu x lớn hơn: 6150000 ||R2_score:  0.9745748017158987 ||kích thước dữ liệu:  27388\n",
            "dư liệu x lớn hơn: 6200000 ||R2_score:  0.9747909993431513 ||kích thước dữ liệu:  26996\n",
            "dư liệu x lớn hơn: 6250000 ||R2_score:  0.9748426289823475 ||kích thước dữ liệu:  26629\n",
            "dư liệu x lớn hơn: 6300000 ||R2_score:  0.9750584182245016 ||kích thước dữ liệu:  26300\n",
            "dư liệu x lớn hơn: 6350000 ||R2_score:  0.975230522724977 ||kích thước dữ liệu:  25943\n",
            "dư liệu x lớn hơn: 6450000 ||R2_score:  0.9753617705560473 ||kích thước dữ liệu:  25188\n",
            "dư liệu x lớn hơn: 6500000 ||R2_score:  0.9757536261854204 ||kích thước dữ liệu:  24855\n",
            "dư liệu x lớn hơn: 6550000 ||R2_score:  0.9758186366489444 ||kích thước dữ liệu:  24494\n",
            "dư liệu x lớn hơn: 6600000 ||R2_score:  0.976138438153795 ||kích thước dữ liệu:  24135\n",
            "dư liệu x lớn hơn: 6650000 ||R2_score:  0.9763082204745801 ||kích thước dữ liệu:  23787\n",
            "dư liệu x lớn hơn: 6700000 ||R2_score:  0.9766234302145901 ||kích thước dữ liệu:  23424\n",
            "dư liệu x lớn hơn: 6750000 ||R2_score:  0.9768097972081947 ||kích thước dữ liệu:  23052\n",
            "dư liệu x lớn hơn: 6850000 ||R2_score:  0.9768349674161242 ||kích thước dữ liệu:  22322\n",
            "dư liệu x lớn hơn: 6900000 ||R2_score:  0.9768608559169409 ||kích thước dữ liệu:  21979\n",
            "dư liệu x lớn hơn: 6950000 ||R2_score:  0.977114397210219 ||kích thước dữ liệu:  21614\n",
            "dư liệu x lớn hơn: 7050000 ||R2_score:  0.9771209736119292 ||kích thước dữ liệu:  20898\n",
            "dư liệu x lớn hơn: 7100000 ||R2_score:  0.9773955391493381 ||kích thước dữ liệu:  20530\n",
            "dư liệu x lớn hơn: 7150000 ||R2_score:  0.9774509246506081 ||kích thước dữ liệu:  20162\n",
            "dư liệu x lớn hơn: 7200000 ||R2_score:  0.9775748190454939 ||kích thước dữ liệu:  19815\n",
            "dư liệu x lớn hơn: 7450000 ||R2_score:  0.9775917606948485 ||kích thước dữ liệu:  18009\n",
            "dư liệu x lớn hơn: 7500000 ||R2_score:  0.9776585964272771 ||kích thước dữ liệu:  17642\n",
            "dư liệu x lớn hơn: 7600000 ||R2_score:  0.9776884315530671 ||kích thước dữ liệu:  16935\n",
            "dư liệu x lớn hơn: 7800000 ||R2_score:  0.9779151346472409 ||kích thước dữ liệu:  15604\n",
            "dư liệu x lớn hơn: 8100000 ||R2_score:  0.9779225169052086 ||kích thước dữ liệu:  13469\n",
            "dư liệu x lớn hơn: 8200000 ||R2_score:  0.9784453088337263 ||kích thước dữ liệu:  12736\n",
            "dư liệu x lớn hơn: 8250000 ||R2_score:  0.9787779507072255 ||kích thước dữ liệu:  12383\n",
            "dư liệu x lớn hơn: 8400000 ||R2_score:  0.9796543730564794 ||kích thước dữ liệu:  11321\n",
            "dư liệu x lớn hơn: 8500000 ||R2_score:  0.9803083678658763 ||kích thước dữ liệu:  10654\n",
            "dư liệu x lớn hơn: 8550000 ||R2_score:  0.9812549242594891 ||kích thước dữ liệu:  10300\n",
            "dư liệu x lớn hơn: 8600000 ||R2_score:  0.9813471434890785 ||kích thước dữ liệu:  9979\n",
            "dư liệu x lớn hơn: 8650000 ||R2_score:  0.9815239369934866 ||kích thước dữ liệu:  9592\n",
            "dư liệu x lớn hơn: 8700000 ||R2_score:  0.982436537840896 ||kích thước dữ liệu:  9238\n",
            "dư liệu x lớn hơn: 8750000 ||R2_score:  0.9829530004633191 ||kích thước dữ liệu:  8859\n",
            "dư liệu x lớn hơn: 8800000 ||R2_score:  0.9836396068898089 ||kích thước dữ liệu:  8483\n",
            "dư liệu x lớn hơn: 8850000 ||R2_score:  0.9841079227477182 ||kích thước dữ liệu:  8141\n",
            "dư liệu x lớn hơn: 9150000 ||R2_score:  0.9841604495649444 ||kích thước dữ liệu:  5954\n",
            "dư liệu x lớn hơn: 9200000 ||R2_score:  0.9851374673987329 ||kích thước dữ liệu:  5573\n",
            "dư liệu x lớn hơn: 9300000 ||R2_score:  0.9852658190596931 ||kích thước dữ liệu:  4926\n",
            "dư liệu x lớn hơn: 9350000 ||R2_score:  0.9873125030045159 ||kích thước dữ liệu:  4571\n",
            "dư liệu x lớn hơn: 9600000 ||R2_score:  0.9875197911210083 ||kích thước dữ liệu:  2762\n",
            "9600000 0.9875197911210083\n"
          ]
        }
      ]
    },
    {
      "cell_type": "markdown",
      "metadata": {
        "id": "EcIv-50Mcvpd"
      },
      "source": [
        "MẶC DÙ R2_score TĂNG LÊN NHƯNG KÍCH THƯỚC DỮ LIỆU NHỎ"
      ]
    },
    {
      "cell_type": "code",
      "metadata": {
        "colab": {
          "base_uri": "https://localhost:8080/"
        },
        "id": "xJqBFWzATPiE",
        "outputId": "b3cb60dd-8010-43f9-e5bb-f2c19f87f1d9"
      },
      "source": [
        "X_max=X_train.max()\n",
        "r2=r2_score(y_test,regr.predict(X_test))\n",
        "muc=100000\n",
        "for i in range(100000,10000000,50000):\n",
        "  train=data_train[data_train[:,0]>=i]\n",
        "  X_train1 = (np.array(train[: ,0])).reshape(-1,1)\n",
        "  y_train1 = (np.array(train[: ,1])).reshape(-1,1)\n",
        "  if(len(X_train1)>20000):\n",
        "    regr1 = linear_model.LinearRegression() \n",
        "    regr1.fit(X_train1, y_train1)\n",
        "    if(r2_score(y_test,regr1.predict(X_test))>r2):\n",
        "      r2=r2_score(y_test,regr1.predict(X_test))\n",
        "      muc=i\n",
        "      print(\"dư liệu x lớn hơn:\",muc,\"||R2_score: \",r2,\"||kích thước dữ liệu: \",len(X_train1))\n"
      ],
      "execution_count": null,
      "outputs": [
        {
          "output_type": "stream",
          "name": "stdout",
          "text": [
            "dư liệu x lớn hơn: 100000 ||R2_score:  0.9303609008130468 ||kích thước dữ liệu:  70412\n",
            "dư liệu x lớn hơn: 150000 ||R2_score:  0.9312595461302677 ||kích thước dữ liệu:  70064\n",
            "dư liệu x lớn hơn: 200000 ||R2_score:  0.9321980835125476 ||kích thước dữ liệu:  69688\n",
            "dư liệu x lớn hơn: 250000 ||R2_score:  0.933086696185364 ||kích thước dữ liệu:  69320\n",
            "dư liệu x lớn hơn: 300000 ||R2_score:  0.9339438109438902 ||kích thước dữ liệu:  68955\n",
            "dư liệu x lớn hơn: 350000 ||R2_score:  0.9347540030002699 ||kích thước dữ liệu:  68601\n",
            "dư liệu x lớn hơn: 400000 ||R2_score:  0.9355845877272171 ||kích thước dữ liệu:  68225\n",
            "dư liệu x lớn hơn: 450000 ||R2_score:  0.9363588595899983 ||kích thước dữ liệu:  67865\n",
            "dư liệu x lớn hơn: 500000 ||R2_score:  0.9371532303003193 ||kích thước dữ liệu:  67486\n",
            "dư liệu x lớn hơn: 550000 ||R2_score:  0.9378000713898298 ||kích thước dữ liệu:  67171\n",
            "dư liệu x lớn hơn: 600000 ||R2_score:  0.9385139066180743 ||kích thước dữ liệu:  66815\n",
            "dư liệu x lớn hơn: 650000 ||R2_score:  0.9391972774715033 ||kích thước dữ liệu:  66466\n",
            "dư liệu x lớn hơn: 700000 ||R2_score:  0.9399341376070524 ||kích thước dữ liệu:  66083\n",
            "dư liệu x lớn hơn: 750000 ||R2_score:  0.9406230076290619 ||kích thước dữ liệu:  65716\n",
            "dư liệu x lớn hơn: 800000 ||R2_score:  0.9412294211185062 ||kích thước dữ liệu:  65388\n",
            "dư liệu x lớn hơn: 850000 ||R2_score:  0.941854367625927 ||kích thước dữ liệu:  65041\n",
            "dư liệu x lớn hơn: 900000 ||R2_score:  0.942480032952511 ||kích thước dữ liệu:  64680\n",
            "dư liệu x lớn hơn: 950000 ||R2_score:  0.9431203947068695 ||kích thước dữ liệu:  64302\n",
            "dư liệu x lớn hơn: 1000000 ||R2_score:  0.9436874602169218 ||kích thước dữ liệu:  63958\n",
            "dư liệu x lớn hơn: 1050000 ||R2_score:  0.9442087896330754 ||kích thước dữ liệu:  63635\n",
            "dư liệu x lớn hơn: 1100000 ||R2_score:  0.9447232054565359 ||kích thước dữ liệu:  63316\n",
            "dư liệu x lớn hơn: 1150000 ||R2_score:  0.9452504650673851 ||kích thước dữ liệu:  62974\n",
            "dư liệu x lớn hơn: 1200000 ||R2_score:  0.9457621867938402 ||kích thước dữ liệu:  62637\n",
            "dư liệu x lớn hơn: 1250000 ||R2_score:  0.9462919924860453 ||kích thước dữ liệu:  62274\n",
            "dư liệu x lớn hơn: 1300000 ||R2_score:  0.9468478752690379 ||kích thước dữ liệu:  61912\n",
            "dư liệu x lớn hơn: 1350000 ||R2_score:  0.9473083448606573 ||kích thước dữ liệu:  61587\n",
            "dư liệu x lớn hơn: 1400000 ||R2_score:  0.9477806304469054 ||kích thước dữ liệu:  61255\n",
            "dư liệu x lớn hơn: 1450000 ||R2_score:  0.9483312111334579 ||kích thước dữ liệu:  60847\n",
            "dư liệu x lớn hơn: 1500000 ||R2_score:  0.9488203664410655 ||kích thước dữ liệu:  60498\n",
            "dư liệu x lớn hơn: 1550000 ||R2_score:  0.9492454731412394 ||kích thước dữ liệu:  60176\n",
            "dư liệu x lớn hơn: 1600000 ||R2_score:  0.9497038047756554 ||kích thước dữ liệu:  59818\n",
            "dư liệu x lớn hơn: 1650000 ||R2_score:  0.9501895553048963 ||kích thước dữ liệu:  59456\n",
            "dư liệu x lớn hơn: 1700000 ||R2_score:  0.9506815058090715 ||kích thước dữ liệu:  59070\n",
            "dư liệu x lớn hơn: 1750000 ||R2_score:  0.9511285979674495 ||kích thước dữ liệu:  58718\n",
            "dư liệu x lớn hơn: 1800000 ||R2_score:  0.9515373157615845 ||kích thước dữ liệu:  58368\n",
            "dư liệu x lớn hơn: 1850000 ||R2_score:  0.9519427638079189 ||kích thước dữ liệu:  58013\n",
            "dư liệu x lớn hơn: 1900000 ||R2_score:  0.9523698178941776 ||kích thước dữ liệu:  57655\n",
            "dư liệu x lớn hơn: 1950000 ||R2_score:  0.9528303422792296 ||kích thước dữ liệu:  57283\n",
            "dư liệu x lớn hơn: 2000000 ||R2_score:  0.9532455397561407 ||kích thước dữ liệu:  56922\n",
            "dư liệu x lớn hơn: 2050000 ||R2_score:  0.9536534169282915 ||kích thước dữ liệu:  56567\n",
            "dư liệu x lớn hơn: 2100000 ||R2_score:  0.954036370132914 ||kích thước dữ liệu:  56210\n",
            "dư liệu x lớn hơn: 2150000 ||R2_score:  0.9544454935501754 ||kích thước dữ liệu:  55848\n",
            "dư liệu x lớn hơn: 2200000 ||R2_score:  0.9548782716168664 ||kích thước dữ liệu:  55483\n",
            "dư liệu x lớn hơn: 2250000 ||R2_score:  0.9552319724097277 ||kích thước dữ liệu:  55136\n",
            "dư liệu x lớn hơn: 2300000 ||R2_score:  0.955584519253782 ||kích thước dữ liệu:  54780\n",
            "dư liệu x lớn hơn: 2350000 ||R2_score:  0.955962088749106 ||kích thước dữ liệu:  54427\n",
            "dư liệu x lớn hơn: 2400000 ||R2_score:  0.9563533097609968 ||kích thước dữ liệu:  54040\n",
            "dư liệu x lớn hơn: 2450000 ||R2_score:  0.9567472632853508 ||kích thước dữ liệu:  53680\n",
            "dư liệu x lớn hơn: 2500000 ||R2_score:  0.9570782919910815 ||kích thước dữ liệu:  53312\n",
            "dư liệu x lớn hơn: 2550000 ||R2_score:  0.9574113908650407 ||kích thước dữ liệu:  52991\n",
            "dư liệu x lớn hơn: 2600000 ||R2_score:  0.9577198471169313 ||kích thước dữ liệu:  52650\n",
            "dư liệu x lớn hơn: 2650000 ||R2_score:  0.9580683232912026 ||kích thước dữ liệu:  52281\n",
            "dư liệu x lớn hơn: 2700000 ||R2_score:  0.9583922971304975 ||kích thước dữ liệu:  51924\n",
            "dư liệu x lớn hơn: 2750000 ||R2_score:  0.958743343858206 ||kích thước dữ liệu:  51557\n",
            "dư liệu x lớn hơn: 2800000 ||R2_score:  0.9591075120934708 ||kích thước dữ liệu:  51184\n",
            "dư liệu x lớn hơn: 2850000 ||R2_score:  0.9594539627959635 ||kích thước dữ liệu:  50867\n",
            "dư liệu x lớn hơn: 2900000 ||R2_score:  0.9597682076369801 ||kích thước dữ liệu:  50511\n",
            "dư liệu x lớn hơn: 2950000 ||R2_score:  0.9600468254653048 ||kích thước dữ liệu:  50167\n",
            "dư liệu x lớn hơn: 3000000 ||R2_score:  0.9603221950662255 ||kích thước dữ liệu:  49828\n",
            "dư liệu x lớn hơn: 3050000 ||R2_score:  0.9606609414462227 ||kích thước dữ liệu:  49461\n",
            "dư liệu x lớn hơn: 3100000 ||R2_score:  0.9609721403888084 ||kích thước dữ liệu:  49109\n",
            "dư liệu x lớn hơn: 3150000 ||R2_score:  0.9612604693079382 ||kích thước dữ liệu:  48751\n",
            "dư liệu x lớn hơn: 3200000 ||R2_score:  0.9615368926025673 ||kích thước dữ liệu:  48395\n",
            "dư liệu x lớn hơn: 3250000 ||R2_score:  0.9618384391432205 ||kích thước dữ liệu:  48014\n",
            "dư liệu x lớn hơn: 3300000 ||R2_score:  0.9621776936053328 ||kích thước dữ liệu:  47642\n",
            "dư liệu x lớn hơn: 3350000 ||R2_score:  0.9624750322199106 ||kích thước dữ liệu:  47292\n",
            "dư liệu x lớn hơn: 3400000 ||R2_score:  0.962799564218173 ||kích thước dữ liệu:  46937\n",
            "dư liệu x lớn hơn: 3450000 ||R2_score:  0.963049521918167 ||kích thước dữ liệu:  46567\n",
            "dư liệu x lớn hơn: 3500000 ||R2_score:  0.9632481468132671 ||kích thước dữ liệu:  46178\n",
            "dư liệu x lớn hơn: 3550000 ||R2_score:  0.9634997163815844 ||kích thước dữ liệu:  45845\n",
            "dư liệu x lớn hơn: 3600000 ||R2_score:  0.9637022520105665 ||kích thước dữ liệu:  45501\n",
            "dư liệu x lớn hơn: 3650000 ||R2_score:  0.9639948410077512 ||kích thước dữ liệu:  45154\n",
            "dư liệu x lớn hơn: 3700000 ||R2_score:  0.9641977981602666 ||kích thước dữ liệu:  44807\n",
            "dư liệu x lớn hơn: 3750000 ||R2_score:  0.9644293466260898 ||kích thước dữ liệu:  44472\n",
            "dư liệu x lớn hơn: 3800000 ||R2_score:  0.9646754558172211 ||kích thước dữ liệu:  44088\n",
            "dư liệu x lớn hơn: 3850000 ||R2_score:  0.9649552574558555 ||kích thước dữ liệu:  43710\n",
            "dư liệu x lớn hơn: 3900000 ||R2_score:  0.9652113129455869 ||kích thước dữ liệu:  43382\n",
            "dư liệu x lớn hơn: 3950000 ||R2_score:  0.9654042581611928 ||kích thước dữ liệu:  42987\n",
            "dư liệu x lớn hơn: 4000000 ||R2_score:  0.9656180301457471 ||kích thước dữ liệu:  42646\n",
            "dư liệu x lớn hơn: 4050000 ||R2_score:  0.9659454712862197 ||kích thước dữ liệu:  42302\n",
            "dư liệu x lớn hơn: 4100000 ||R2_score:  0.9661595710172945 ||kích thước dữ liệu:  41977\n",
            "dư liệu x lớn hơn: 4150000 ||R2_score:  0.96631019835877 ||kích thước dữ liệu:  41647\n",
            "dư liệu x lớn hơn: 4200000 ||R2_score:  0.9665736549603787 ||kích thước dữ liệu:  41270\n",
            "dư liệu x lớn hơn: 4250000 ||R2_score:  0.9666736539478493 ||kích thước dữ liệu:  40962\n",
            "dư liệu x lớn hơn: 4300000 ||R2_score:  0.9669551346492762 ||kích thước dữ liệu:  40593\n",
            "dư liệu x lớn hơn: 4350000 ||R2_score:  0.967195773392339 ||kích thước dữ liệu:  40244\n",
            "dư liệu x lớn hơn: 4400000 ||R2_score:  0.9674510099999984 ||kích thước dữ liệu:  39908\n",
            "dư liệu x lớn hơn: 4450000 ||R2_score:  0.9677056354010701 ||kích thước dữ liệu:  39573\n",
            "dư liệu x lớn hơn: 4500000 ||R2_score:  0.9679154039695645 ||kích thước dữ liệu:  39229\n",
            "dư liệu x lớn hơn: 4550000 ||R2_score:  0.9681775556155832 ||kích thước dữ liệu:  38849\n",
            "dư liệu x lớn hơn: 4600000 ||R2_score:  0.9684100586404132 ||kích thước dữ liệu:  38501\n",
            "dư liệu x lớn hơn: 4650000 ||R2_score:  0.9685992351866379 ||kích thước dữ liệu:  38151\n",
            "dư liệu x lớn hơn: 4700000 ||R2_score:  0.968866355260163 ||kích thước dữ liệu:  37796\n",
            "dư liệu x lớn hơn: 4750000 ||R2_score:  0.9691055529324958 ||kích thước dữ liệu:  37429\n",
            "dư liệu x lớn hơn: 4800000 ||R2_score:  0.9693650580311359 ||kích thước dữ liệu:  37063\n",
            "dư liệu x lớn hơn: 4850000 ||R2_score:  0.9695342341602495 ||kích thước dữ liệu:  36745\n",
            "dư liệu x lớn hơn: 4900000 ||R2_score:  0.9696518615295797 ||kích thước dữ liệu:  36380\n",
            "dư liệu x lớn hơn: 4950000 ||R2_score:  0.9699670358235913 ||kích thước dữ liệu:  36009\n",
            "dư liệu x lớn hơn: 5000000 ||R2_score:  0.970168068793008 ||kích thước dữ liệu:  35633\n",
            "dư liệu x lớn hơn: 5050000 ||R2_score:  0.9703914422080996 ||kích thước dữ liệu:  35300\n",
            "dư liệu x lớn hơn: 5100000 ||R2_score:  0.9705182013331943 ||kích thước dữ liệu:  34976\n",
            "dư liệu x lớn hơn: 5150000 ||R2_score:  0.9706513364463156 ||kích thước dữ liệu:  34598\n",
            "dư liệu x lớn hơn: 5200000 ||R2_score:  0.9709345306165676 ||kích thước dữ liệu:  34196\n",
            "dư liệu x lớn hơn: 5250000 ||R2_score:  0.9711943982238158 ||kích thước dữ liệu:  33832\n",
            "dư liệu x lớn hơn: 5300000 ||R2_score:  0.9714182162823909 ||kích thước dữ liệu:  33488\n",
            "dư liệu x lớn hơn: 5350000 ||R2_score:  0.9717211532635278 ||kích thước dữ liệu:  33117\n",
            "dư liệu x lớn hơn: 5450000 ||R2_score:  0.9718803722379168 ||kích thước dữ liệu:  32400\n",
            "dư liệu x lớn hơn: 5500000 ||R2_score:  0.97211451336423 ||kích thước dữ liệu:  32008\n",
            "dư liệu x lớn hơn: 5550000 ||R2_score:  0.9721761175932695 ||kích thước dữ liệu:  31663\n",
            "dư liệu x lớn hơn: 5600000 ||R2_score:  0.972307714200804 ||kích thước dữ liệu:  31313\n",
            "dư liệu x lớn hơn: 5650000 ||R2_score:  0.9725486128692048 ||kích thước dữ liệu:  30956\n",
            "dư liệu x lớn hơn: 5700000 ||R2_score:  0.9728317764981981 ||kích thước dữ liệu:  30621\n",
            "dư liệu x lớn hơn: 5750000 ||R2_score:  0.9730078734459708 ||kích thước dữ liệu:  30250\n",
            "dư liệu x lớn hơn: 5800000 ||R2_score:  0.97323819390265 ||kích thước dữ liệu:  29889\n",
            "dư liệu x lớn hơn: 5850000 ||R2_score:  0.9736090303713676 ||kích thước dữ liệu:  29503\n",
            "dư liệu x lớn hơn: 5900000 ||R2_score:  0.9738819415422323 ||kích thước dữ liệu:  29148\n",
            "dư liệu x lớn hơn: 5950000 ||R2_score:  0.9740404907100797 ||kích thước dữ liệu:  28834\n",
            "dư liệu x lớn hơn: 6000000 ||R2_score:  0.9741794932030824 ||kích thước dữ liệu:  28464\n",
            "dư liệu x lớn hơn: 6050000 ||R2_score:  0.9742999541697928 ||kích thước dữ liệu:  28104\n",
            "dư liệu x lớn hơn: 6100000 ||R2_score:  0.9743831551990365 ||kích thước dữ liệu:  27757\n",
            "dư liệu x lớn hơn: 6150000 ||R2_score:  0.9745748017158987 ||kích thước dữ liệu:  27388\n",
            "dư liệu x lớn hơn: 6200000 ||R2_score:  0.9747909993431513 ||kích thước dữ liệu:  26996\n",
            "dư liệu x lớn hơn: 6250000 ||R2_score:  0.9748426289823475 ||kích thước dữ liệu:  26629\n",
            "dư liệu x lớn hơn: 6300000 ||R2_score:  0.9750584182245016 ||kích thước dữ liệu:  26300\n",
            "dư liệu x lớn hơn: 6350000 ||R2_score:  0.975230522724977 ||kích thước dữ liệu:  25943\n",
            "dư liệu x lớn hơn: 6450000 ||R2_score:  0.9753617705560473 ||kích thước dữ liệu:  25188\n",
            "dư liệu x lớn hơn: 6500000 ||R2_score:  0.9757536261854204 ||kích thước dữ liệu:  24855\n",
            "dư liệu x lớn hơn: 6550000 ||R2_score:  0.9758186366489444 ||kích thước dữ liệu:  24494\n",
            "dư liệu x lớn hơn: 6600000 ||R2_score:  0.976138438153795 ||kích thước dữ liệu:  24135\n",
            "dư liệu x lớn hơn: 6650000 ||R2_score:  0.9763082204745801 ||kích thước dữ liệu:  23787\n",
            "dư liệu x lớn hơn: 6700000 ||R2_score:  0.9766234302145901 ||kích thước dữ liệu:  23424\n",
            "dư liệu x lớn hơn: 6750000 ||R2_score:  0.9768097972081947 ||kích thước dữ liệu:  23052\n",
            "dư liệu x lớn hơn: 6850000 ||R2_score:  0.9768349674161242 ||kích thước dữ liệu:  22322\n",
            "dư liệu x lớn hơn: 6900000 ||R2_score:  0.9768608559169409 ||kích thước dữ liệu:  21979\n",
            "dư liệu x lớn hơn: 6950000 ||R2_score:  0.977114397210219 ||kích thước dữ liệu:  21614\n",
            "dư liệu x lớn hơn: 7050000 ||R2_score:  0.9771209736119292 ||kích thước dữ liệu:  20898\n",
            "dư liệu x lớn hơn: 7100000 ||R2_score:  0.9773955391493381 ||kích thước dữ liệu:  20530\n",
            "dư liệu x lớn hơn: 7150000 ||R2_score:  0.9774509246506081 ||kích thước dữ liệu:  20162\n"
          ]
        }
      ]
    },
    {
      "cell_type": "markdown",
      "metadata": {
        "id": "QbcrU3xndCVu"
      },
      "source": [
        "LẤY KÍCH THƯỚC DỮ LIỆU LỚN HƠN 20000"
      ]
    },
    {
      "cell_type": "code",
      "metadata": {
        "colab": {
          "base_uri": "https://localhost:8080/"
        },
        "id": "YytYKoqKdO3O",
        "outputId": "278a204d-c65d-4541-cb96-24e01031d116"
      },
      "source": [
        "print(\"dư liệu x lớn hơn:\",muc,\"||R2_score lớn nhất sau khi loại bỏ phần tử nhỏ: \",r2)"
      ],
      "execution_count": null,
      "outputs": [
        {
          "output_type": "stream",
          "name": "stdout",
          "text": [
            "dư liệu x lớn hơn: 7150000 ||R2_score lớn nhất sau khi loại bỏ phần tử nhỏ:  0.9774509246506081\n"
          ]
        }
      ]
    }
  ]
}